{
 "cells": [
  {
   "cell_type": "markdown",
   "id": "234719a3-7ef5-4af0-b246-0a7063d57332",
   "metadata": {},
   "source": [
    "# Introduction to GIS"
   ]
  },
  {
   "cell_type": "markdown",
   "id": "6a2a11e2-e75e-4b3a-a849-e8120ec8b40a",
   "metadata": {},
   "source": [
    "## What is Information? \n",
    "- Information are data that can be understood, usually a sequence of symbols and/or signals with meanings. \n",
    "- Information, in a general sense, is processed, organised and structured data.\n",
    "- It provides context for data and enables decision making.\n",
    "- Examples: numbers, characters, symbols musical notes, sounds, colors. "
   ]
  },
  {
   "cell_type": "markdown",
   "id": "16f16871-4f1c-4765-9dd6-979ad846ae77",
   "metadata": {},
   "source": [
    "## What is Geographic Information? \n",
    "- Any information that contains geographic location; e.g. where is nearest restaurant. \n",
    "- 80% of information has location component(Field in GIS Data by Caitlin Dempsey on October 28, 2021) "
   ]
  },
  {
   "cell_type": "markdown",
   "id": "5c6ae2a8-1095-4e14-ab6a-cea54158d92d",
   "metadata": {},
   "source": [
    "## What is System? \n",
    "A collection of linked components that work together for a specific purpose. \n",
    "- Example 1: Car system is composed of engine, wheel, brake components, these components linked together and work for a specific purpose. \n",
    "- Example 2: Human body is composed of organs, tissues, bones and so on. All the components collaborate with each other to support our lives. "
   ]
  },
  {
   "cell_type": "markdown",
   "id": "a24b3cb4-495e-473b-9cdb-ce1920f2e93a",
   "metadata": {},
   "source": [
    "## What is GIS(Geographic Information System) \n",
    "A GIS is a **computer-based system** to aid in the collection, maintenance, storage, analysis, display, and distribution of spatial data and information(Bolstad, Chapter 1) \n",
    "![](../img/gis.jpg)"
   ]
  },
  {
   "cell_type": "markdown",
   "id": "1baada62-4666-407c-87d2-ef79050f9a7d",
   "metadata": {},
   "source": [
    "## What is Geoscience? \n",
    "- GIScience: The Science behind the GISystem(as tools)\n",
    "    - Theoritical foundation on which GIS is based\n",
    "    - Addresses the fundamental issues arising from use of geographic information. \n",
    "    - The science is needed to keep the technology moving forward. \n",
    "    \n",
    "- Analogy: GIScience is to GIS as scientist is to statistical software packages, or computer science to computer system. "
   ]
  },
  {
   "cell_type": "markdown",
   "id": "33481dcb-0ba2-4061-8dd6-ad554db9b2e2",
   "metadata": {},
   "source": [
    "## Research Questions in GIS\n",
    "- How can we represent our perception of geographic space in a computer environment?\n",
    "- What method can we use to dig deeper in the area of geographic information? \n",
    "- What are the best ways we can visualize the geospatial information to make it easier  to understand?"
   ]
  }
 ],
 "metadata": {
  "kernelspec": {
   "display_name": "Python 3 (ipykernel)",
   "language": "python",
   "name": "python3"
  },
  "language_info": {
   "codemirror_mode": {
    "name": "ipython",
    "version": 3
   },
   "file_extension": ".py",
   "mimetype": "text/x-python",
   "name": "python",
   "nbconvert_exporter": "python",
   "pygments_lexer": "ipython3",
   "version": "3.8.8"
  }
 },
 "nbformat": 4,
 "nbformat_minor": 5
}
